{
  "cells": [
    {
      "cell_type": "markdown",
      "id": "a87647ba",
      "metadata": {
        "id": "a87647ba"
      },
      "source": [
        "# 🌱 Soil Classification Challenge - Inference\n",
        "This notebook handles the inference pipeline for the Soil Classification Challenge. We load the trained model and label encoder, process test images, generate predictions, create a submission file, and visualize some test predictions."
      ]
    },
    {
      "cell_type": "markdown",
      "id": "2c45ae09",
      "metadata": {
        "id": "2c45ae09"
      },
      "source": [
        "## 1. 📚 Importing Required Libraries\n",
        "We import the necessary libraries for image processing, model loading, and visualization."
      ]
    },
    {
      "cell_type": "code",
      "execution_count": null,
      "id": "2098a174",
      "metadata": {
        "id": "2098a174"
      },
      "outputs": [],
      "source": [
        "import pandas as pd\n",
        "import matplotlib.pyplot as plt\n",
        "import os\n",
        "import numpy as np\n",
        "from tqdm import tqdm\n",
        "from PIL import Image\n",
        "import tensorflow as tf\n",
        "import pickle\n",
        "from sklearn.preprocessing import LabelEncoder"
      ]
    },
    {
      "cell_type": "markdown",
      "id": "61a88f7d",
      "metadata": {
        "id": "61a88f7d"
      },
      "source": [
        "## 2. 🏗️ Loading Model and Label Encoder\n",
        "We load the trained CNN model and label encoder saved from the training phase."
      ]
    },
    {
      "cell_type": "code",
      "execution_count": null,
      "id": "5ed4332a",
      "metadata": {
        "id": "5ed4332a"
      },
      "outputs": [],
      "source": [
        "IMG_SIZE = 128\n",
        "\n",
        "# Load the trained model\n",
        "model = tf.keras.models.load_model('soil_classification_model.h5')\n",
        "\n",
        "# Load the label encoder\n",
        "with open('label_encoder.pkl', 'rb') as f:\n",
        "    label_encoder = pickle.load(f)\n",
        "\n",
        "print(\"✅ Model and label encoder loaded successfully.\")\n",
        "print(\"Label mapping:\")\n",
        "for i, soil_type in enumerate(label_encoder.classes_):\n",
        "    print(f\"{i}: {soil_type}\")"
      ]
    },
    {
      "cell_type": "markdown",
      "metadata": {
        "id": "ONPjP9FrCndT"
      },
      "source": [
        "## 3. 🧾 Test Data Prediction & Submission\n",
        "We process test images, make predictions using the trained model, and create a submission CSV file."
      ],
      "id": "ONPjP9FrCndT"
    },
    {
      "cell_type": "code",
      "execution_count": null,
      "metadata": {
        "id": "OscZh2PqCndT"
      },
      "outputs": [],
      "source": [
        "test_image_dir = \"/content/soil_classification-2025/test\"\n",
        "test_images = []\n",
        "image_ids = []\n",
        "\n",
        "for img_name in tqdm(os.listdir(test_image_dir)):\n",
        "    img_path = os.path.join(test_image_dir, img_name)\n",
        "    try:\n",
        "        image = Image.open(img_path).convert('RGB').resize((IMG_SIZE, IMG_SIZE))\n",
        "        image = np.array(image) / 255.0\n",
        "        test_images.append(image)\n",
        "        image_ids.append(img_name)\n",
        "    except Exception as e:\n",
        "        print(f\"Error processing image {img_name}: {e}\")\n",
        "\n",
        "test_images = np.array(test_images)\n",
        "predictions = model.predict(test_images)\n",
        "predicted_classes = np.argmax(predictions, axis=1)\n",
        "predicted_labels = label_encoder.inverse_transform(predicted_classes)\n",
        "\n",
        "submission_df = pd.DataFrame({\n",
        "    'image_id': image_ids,\n",
        "    'soil_type': predicted_labels\n",
        "})\n",
        "submission_df.to_csv('submission.csv', index=False)\n",
        "print(\"✅ Submission file created successfully.\")"
      ],
      "id": "OscZh2PqCndT"
    },
    {
      "cell_type": "markdown",
      "id": "9347b497",
      "metadata": {
        "id": "9347b497"
      },
      "source": [
        "## 4. 🖼️ Visualizing Test Predictions\n",
        "Let's visualize some test images with their predicted soil types."
      ]
    },
    {
      "cell_type": "code",
      "execution_count": null,
      "metadata": {
        "id": "X1HfTdblCndU"
      },
      "outputs": [],
      "source": [
        "plt.figure(figsize=(15, 10))\n",
        "for i in range(min(9, len(test_images))):\n",
        "    plt.subplot(3, 3, i+1)\n",
        "    plt.imshow(test_images[i])\n",
        "    plt.title(f\"Pred: {predicted_labels[i]}\")\n",
        "    plt.axis('off')\n",
        "plt.tight_layout()\n",
        "plt.show()"
      ],
      "id": "X1HfTdblCndU"
    },
    {
      "cell_type": "markdown",
      "id": "d07898b3",
      "metadata": {
        "id": "d07898b3"
      },
      "source": [
        "## 5. ✅ Conclusion\n",
        "- Successfully loaded the trained model and label encoder.\n",
        "- Generated predictions for test data.\n",
        "- Created a submission file and visualized test predictions."
      ]
    }
  ],
  "metadata": {
    "language_info": {
      "name": "python"
    },
    "colab": {
      "provenance": []
    }
  },
  "nbformat": 4,
  "nbformat_minor": 5
}